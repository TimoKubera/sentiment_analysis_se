{
 "cells": [
  {
   "attachments": {},
   "cell_type": "markdown",
   "metadata": {},
   "source": [
    "### Data Description and Explorative Data Analysis\n",
    "Novielli et al. [1] created a gold standard data set from GitHub data, which includes 7122 data points in total.\n",
    "Each data point contains a ID column, a text column and a column, containing one of the three polarity classes („neutral“, „positive“, „negative“).\n",
    "The data points were labeled by 3 independent raters, for the most part, using the Shaver et al. [2] emotion framework.<br>\n",
    "Eventually the polarity classess „positive“, or „negative“ were assigned to the data points, respectively „neutral“, if neither „positive“ or „negative“ was assigned.<br>\n",
    "The dataset is fairly well balanced, with 29% negative labels, 28 % positive labels and 43 % neutral labels.<br>\n",
    "It’s worth mentioning that natural text, especially in the software engineering jargon, is more often absent from sentiment, than it expresses sentiment.\n",
    "Therefore a truly even distribution of the polarity clases (33% positive, 33 % neutral, 33% negative), would probably not be beneficial.<br>\n",
    "The GitHub dataset was created using an iterative approach:<br>\n",
    "1. From a GitHub dataset of 116k documents, 4k documents were randomly selected and manually annotated by three raters.\n",
    "They decided by majority which polarity class should be assigned to which document.\n",
    "Duplicates and documents for which the raters could not assign a polarity class by majority vote were removed, adding 3931 documents to the gold standard data set.\n",
    "2. Since there was an excess of neutral comments (77%), more positive and negative documents should be added to the dataset.\n",
    "To save time, the Senti4SD classifier was trained with the approx. 4k documents from the first step in order to automatically classify the remaining 112k documents.\n",
    "From this, 600 positively and 600 negatively evaluated documents were selected at random and the majority of the evaluators had to agree on whether they agreed with the classification of Senti4SD or not. Ultimately, 343 more positive and 550 negative comments were added to the gold standard dataset.\n",
    "3. In the third step, the classifier was trained again, this time with the data set obtained from step 2..\n",
    "With the same procedure as in step 2., another 1124 positively classified documents and 1204 negatively classified documents could be added to the gold standard dataset.\n",
    "The result is a gold standard data set with 7122 comments. The iterative approach is also appended in graphic 1.\n",
    "\n",
    "The data is imported and some core statistics are printed and visualized."
   ]
  },
  {
   "cell_type": "code",
   "execution_count": 1,
   "metadata": {},
   "outputs": [
    {
     "data": {
      "text/plain": [
       "(7122, 3)"
      ]
     },
     "execution_count": 1,
     "metadata": {},
     "output_type": "execute_result"
    }
   ],
   "source": [
    "import os\n",
    "import pandas as pd\n",
    "import matplotlib.pyplot as plt\n",
    "\n",
    "f_path = os.path.abspath('')\n",
    "data = pd.read_csv(os.path.join(f_path, 'data/github_gold.csv'), delimiter=';')\n",
    "\n",
    "data.shape"
   ]
  },
  {
   "attachments": {},
   "cell_type": "markdown",
   "metadata": {},
   "source": [
    "There is a redundant 'ID' column as well as a polarity and a text column. Let's get rid of the id column."
   ]
  },
  {
   "cell_type": "code",
   "execution_count": 2,
   "metadata": {},
   "outputs": [
    {
     "data": {
      "text/html": [
       "<div>\n",
       "<style scoped>\n",
       "    .dataframe tbody tr th:only-of-type {\n",
       "        vertical-align: middle;\n",
       "    }\n",
       "\n",
       "    .dataframe tbody tr th {\n",
       "        vertical-align: top;\n",
       "    }\n",
       "\n",
       "    .dataframe thead th {\n",
       "        text-align: right;\n",
       "    }\n",
       "</style>\n",
       "<table border=\"1\" class=\"dataframe\">\n",
       "  <thead>\n",
       "    <tr style=\"text-align: right;\">\n",
       "      <th></th>\n",
       "      <th>Polarity</th>\n",
       "      <th>Text</th>\n",
       "    </tr>\n",
       "  </thead>\n",
       "  <tbody>\n",
       "    <tr>\n",
       "      <th>0</th>\n",
       "      <td>neutral</td>\n",
       "      <td>No. I still see the wrong twins.  * https://gi...</td>\n",
       "    </tr>\n",
       "    <tr>\n",
       "      <th>1</th>\n",
       "      <td>neutral</td>\n",
       "      <td>Reverted.\"</td>\n",
       "    </tr>\n",
       "    <tr>\n",
       "      <th>2</th>\n",
       "      <td>neutral</td>\n",
       "      <td>You can leave a queue while in queue ? (before...</td>\n",
       "    </tr>\n",
       "    <tr>\n",
       "      <th>3</th>\n",
       "      <td>positive</td>\n",
       "      <td>Didn't look at SpellTargetRestrictions XD\"</td>\n",
       "    </tr>\n",
       "    <tr>\n",
       "      <th>4</th>\n",
       "      <td>neutral</td>\n",
       "      <td>Not sure about what kind of line lengths the p...</td>\n",
       "    </tr>\n",
       "    <tr>\n",
       "      <th>5</th>\n",
       "      <td>positive</td>\n",
       "      <td>@normanmaurer Nice catch ! Did you make the sa...</td>\n",
       "    </tr>\n",
       "    <tr>\n",
       "      <th>6</th>\n",
       "      <td>neutral</td>\n",
       "      <td>That's why I didn't close after sending the cl...</td>\n",
       "    </tr>\n",
       "    <tr>\n",
       "      <th>7</th>\n",
       "      <td>neutral</td>\n",
       "      <td>Build result for 78d8f05c218cab107255c4dc1a134...</td>\n",
       "    </tr>\n",
       "    <tr>\n",
       "      <th>8</th>\n",
       "      <td>neutral</td>\n",
       "      <td>Why you think using ImmediateEventExecutor is ...</td>\n",
       "    </tr>\n",
       "    <tr>\n",
       "      <th>9</th>\n",
       "      <td>neutral</td>\n",
       "      <td>These are the ones we currently hardcode in Te...</td>\n",
       "    </tr>\n",
       "  </tbody>\n",
       "</table>\n",
       "</div>"
      ],
      "text/plain": [
       "   Polarity                                               Text\n",
       "0   neutral  No. I still see the wrong twins.  * https://gi...\n",
       "1   neutral                                         Reverted.\"\n",
       "2   neutral  You can leave a queue while in queue ? (before...\n",
       "3  positive         Didn't look at SpellTargetRestrictions XD\"\n",
       "4   neutral  Not sure about what kind of line lengths the p...\n",
       "5  positive  @normanmaurer Nice catch ! Did you make the sa...\n",
       "6   neutral  That's why I didn't close after sending the cl...\n",
       "7   neutral  Build result for 78d8f05c218cab107255c4dc1a134...\n",
       "8   neutral  Why you think using ImmediateEventExecutor is ...\n",
       "9   neutral  These are the ones we currently hardcode in Te..."
      ]
     },
     "execution_count": 2,
     "metadata": {},
     "output_type": "execute_result"
    }
   ],
   "source": [
    "data.drop(columns='ID', inplace=True)\n",
    "data.head(n=10)"
   ]
  },
  {
   "attachments": {},
   "cell_type": "markdown",
   "metadata": {},
   "source": [
    "The visualization of the distribution of the polarity classes is follwing."
   ]
  },
  {
   "cell_type": "code",
   "execution_count": 3,
   "metadata": {},
   "outputs": [
    {
     "name": "stderr",
     "output_type": "stream",
     "text": [
      "/var/folders/l4/49sqz_0968dgz95nxsm709yw0000gn/T/ipykernel_5319/1334325380.py:3: MatplotlibDeprecationWarning: The seaborn styles shipped by Matplotlib are deprecated since 3.6, as they no longer correspond to the styles shipped by seaborn. However, they will remain available as 'seaborn-v0_8-<style>'. Alternatively, directly use the seaborn API instead.\n",
      "  plt.style.use('seaborn-paper')\n"
     ]
    },
    {
     "data": {
      "image/png": "[encoded data removed]",
      "text/plain": [
       "<Figure size 640x440 with 1 Axes>"
      ]
     },
     "metadata": {},
     "output_type": "display_data"
    }
   ],
   "source": [
    "neutral, negative, positive = data['Polarity'].value_counts()\n",
    "\n",
    "plt.style.use('seaborn-paper')\n",
    "fig, ax = plt.subplots()\n",
    "\n",
    "ax.bar(x='Negative', height = negative, color='#F96167', edgecolor='#201E20')\n",
    "ax.text(x ='Negative' , y=1500, s='{perc:.1f} %'.format(perc= negative / (negative + neutral + positive)*100), horizontalalignment='center')\n",
    "\n",
    "ax.bar(x='Neutral', height = neutral, color='#E7E8D1', edgecolor='#201E20')\n",
    "ax.text(x = 'Neutral', y=2500, s='{perc:.1f} %'.format(perc= neutral / (negative + neutral + positive)*100), horizontalalignment='center')\n",
    "\n",
    "ax.bar(x='Positive', height = positive, color='#317773', edgecolor='#201E20')\n",
    "ax.text(x = 'Positive', y=1500, s='{perc:.1f} %'.format(perc= positive / (negative + neutral + positive)*100), horizontalalignment='center')\n",
    "\n",
    "ax.set(xlabel='Polarity', \n",
    "       ylabel='Quantity',\n",
    "       title='Distribution of the polarity classes')\n",
    "\n",
    "plt.show()"
   ]
  },
  {
   "attachments": {},
   "cell_type": "markdown",
   "metadata": {},
   "source": [
    "### Feature Engineering\n",
    "Text data contains a lot of noise which makes the sentiment analysis task hard to complete. <br>\n",
    "Therefore I'm defining a couple of functions, which can be tuned as hyperparameter of the model, that help to get rid of some noise.\n",
    "\n",
    "\n",
    "#### Clean Up"
   ]
  },
  {
   "cell_type": "code",
   "execution_count": 4,
   "metadata": {},
   "outputs": [
    {
     "name": "stderr",
     "output_type": "stream",
     "text": [
      "[nltk_data] Downloading package punkt to /Users/timo/nltk_data...\n",
      "[nltk_data]   Package punkt is already up-to-date!\n",
      "[nltk_data] Downloading package wordnet to /Users/timo/nltk_data...\n",
      "[nltk_data]   Package wordnet is already up-to-date!\n",
      "[nltk_data] Downloading package stopwords to /Users/timo/nltk_data...\n",
      "[nltk_data]   Package stopwords is already up-to-date!\n",
      "[nltk_data] Downloading package omw-1.4 to /Users/timo/nltk_data...\n",
      "[nltk_data]   Package omw-1.4 is already up-to-date!\n"
     ]
    },
    {
     "name": "stdout",
     "output_type": "stream",
     "text": [
      "The text column after removing punctation:\n",
      "0       no  i still see the wrong twins     https   gi...\n",
      "1                                                reverted\n",
      "2       you can leave a queue while in queue    before...\n",
      "3               didn t look at spelltargetrestrictions xd\n",
      "4       not sure about what kind of line lengths the p...\n",
      "                              ...                        \n",
      "7117    yeah  i m capable of working around it   a set...\n",
      "7118    looks fine to me   on jul 8  2013  at 10 12 pm...\n",
      "7119    formula updated to address this  would be nice...\n",
      "7120                                          i trust you\n",
      "7121    got it  thanks   on sat  mar 31  2012 at 2 07 ...\n",
      "Name: Text, Length: 7122, dtype: object\n",
      "\n",
      "The text column after removing stopwords:\n",
      "0       still see wrong twins https github com mojombo...\n",
      "1                                                reverted\n",
      "2                      leave queue queue needconfirmation\n",
      "3                         look spelltargetrestrictions xd\n",
      "4       sure kind line lengths project adheres diff sh...\n",
      "                              ...                        \n",
      "7117    yeah capable working around setting disables s...\n",
      "7118    looks fine jul 8 2013 10 12 pm joshua peek not...\n",
      "7119    formula updated address would nice brew audit ...\n",
      "7120                                                trust\n",
      "7121    got thanks sat mar 31 2012 2 07 jack nagel rep...\n",
      "Name: Text, Length: 7122, dtype: object\n"
     ]
    }
   ],
   "source": [
    "import string\n",
    "import nltk\n",
    "nltk.download('punkt')\n",
    "nltk.download('wordnet')\n",
    "nltk.download('stopwords')\n",
    "nltk.download('omw-1.4')\n",
    "from nltk.corpus import stopwords\n",
    "from nltk.tokenize import word_tokenize, sent_tokenize\n",
    "from nltk.stem import WordNetLemmatizer\n",
    "\n",
    "def remove_punctuation(text):\n",
    "    # Removes special characters\n",
    "    regular_punct = list(string.punctuation)\n",
    "    for punc in regular_punct:\n",
    "        if punc in text:\n",
    "            text = text.replace(punc, ' ')\n",
    "    return text.strip().lower()\n",
    "\n",
    "\n",
    "def remove_stopwords(text):\n",
    "    # Removes the most common english words, like 'a', 'the', etc.\n",
    "    en_stops = set(stopwords.words('english'))\n",
    "    text = text.split()\n",
    "    text = \" \".join([word for word in text if not word in en_stops])  \n",
    "    return text\n",
    "\n",
    "prcsd_data = data.copy(deep=True)\n",
    "\n",
    "print('The text column after removing punctation:')\n",
    "prcsd_data['Text'] = prcsd_data['Text'].apply(remove_punctuation)\n",
    "print(prcsd_data['Text'])\n",
    "print()\n",
    "\n",
    "print('The text column after removing stopwords:')\n",
    "prcsd_data['Text'] = prcsd_data['Text'].apply(remove_stopwords)\n",
    "print(prcsd_data['Text'])"
   ]
  },
  {
   "attachments": {},
   "cell_type": "markdown",
   "metadata": {},
   "source": [
    "#### Tokenizer"
   ]
  },
  {
   "cell_type": "code",
   "execution_count": 5,
   "metadata": {},
   "outputs": [
    {
     "name": "stdout",
     "output_type": "stream",
     "text": [
      "The text column after tokenizing:\n",
      "0       [still, see, wrong, twins, https, github, com,...\n",
      "1                                              [reverted]\n",
      "2                 [leave, queue, queue, needconfirmation]\n",
      "3                     [look, spelltargetrestrictions, xd]\n",
      "4       [sure, kind, line, lengths, project, adheres, ...\n",
      "                              ...                        \n",
      "7117    [yeah, capable, working, around, setting, disa...\n",
      "7118    [looks, fine, jul, 8, 2013, 10, 12, pm, joshua...\n",
      "7119    [formula, updated, address, would, nice, brew,...\n",
      "7120                                              [trust]\n",
      "7121    [got, thanks, sat, mar, 31, 2012, 2, 07, jack,...\n",
      "Name: Text, Length: 7122, dtype: object\n"
     ]
    }
   ],
   "source": [
    "# I'm using the tokenizer included in the nltk package\n",
    "print('The text column after tokenizing:')\n",
    "prcsd_data['Text'] = prcsd_data['Text'].apply(word_tokenize)\n",
    "print(prcsd_data['Text'])"
   ]
  },
  {
   "attachments": {},
   "cell_type": "markdown",
   "metadata": {},
   "source": [
    "### Lemmatizer"
   ]
  },
  {
   "cell_type": "code",
   "execution_count": 6,
   "metadata": {},
   "outputs": [
    {
     "name": "stdout",
     "output_type": "stream",
     "text": [
      "The text column after lemmatizing:\n",
      "0       [still, see, wrong, twin, http, github, com, m...\n",
      "1                                              [reverted]\n",
      "2                 [leave, queue, queue, needconfirmation]\n",
      "3                     [look, spelltargetrestrictions, xd]\n",
      "4       [sure, kind, line, length, project, adheres, d...\n",
      "                              ...                        \n",
      "7117    [yeah, capable, working, around, setting, disa...\n",
      "7118    [look, fine, jul, 8, 2013, 10, 12, pm, joshua,...\n",
      "7119    [formula, updated, address, would, nice, brew,...\n",
      "7120                                              [trust]\n",
      "7121    [got, thanks, sat, mar, 31, 2012, 2, 07, jack,...\n",
      "Name: Text, Length: 7122, dtype: object\n"
     ]
    }
   ],
   "source": [
    "def lemmatizer(text):\n",
    "    lemma = WordNetLemmatizer()\n",
    "    return [lemma.lemmatize(w) for w in text]\n",
    "\n",
    "print('The text column after lemmatizing:')\n",
    "prcsd_data['Text'] = prcsd_data['Text'].apply(lemmatizer)\n",
    "print(prcsd_data['Text'])"
   ]
  },
  {
   "attachments": {},
   "cell_type": "markdown",
   "metadata": {},
   "source": [
    "### Vectorizing"
   ]
  },
  {
   "cell_type": "code",
   "execution_count": 7,
   "metadata": {},
   "outputs": [
    {
     "ename": "AttributeError",
     "evalue": "'list' object has no attribute 'lower'",
     "output_type": "error",
     "traceback": [
      "\u001b[0;31m---------------------------------------------------------------------------\u001b[0m",
      "\u001b[0;31mAttributeError\u001b[0m                            Traceback (most recent call last)",
      "Cell \u001b[0;32mIn[7], line 10\u001b[0m\n\u001b[1;32m      8\u001b[0m \u001b[39m# Bag of Words\u001b[39;00m\n\u001b[1;32m      9\u001b[0m bow \u001b[39m=\u001b[39m CountVectorizer(ngram_range\u001b[39m=\u001b[39m(\u001b[39m1\u001b[39m, \u001b[39m1\u001b[39m))\n\u001b[0;32m---> 10\u001b[0m X_bow \u001b[39m=\u001b[39m bow\u001b[39m.\u001b[39;49mfit_transform(prcsd_data[\u001b[39m'\u001b[39;49m\u001b[39mText\u001b[39;49m\u001b[39m'\u001b[39;49m]\u001b[39m.\u001b[39;49mvalues\u001b[39m.\u001b[39;49mtolist())\u001b[39m.\u001b[39mtoarray()\n\u001b[1;32m     12\u001b[0m \u001b[39m# Bigram BoW\u001b[39;00m\n\u001b[1;32m     13\u001b[0m bbow \u001b[39m=\u001b[39m CountVectorizer(ngram_range\u001b[39m=\u001b[39m(\u001b[39m2\u001b[39m, \u001b[39m2\u001b[39m))\n",
      "File \u001b[0;32m/Library/Frameworks/Python.framework/Versions/3.10/lib/python3.10/site-packages/sklearn/feature_extraction/text.py:1330\u001b[0m, in \u001b[0;36mCountVectorizer.fit_transform\u001b[0;34m(self, raw_documents, y)\u001b[0m\n\u001b[1;32m   1322\u001b[0m             warnings\u001b[39m.\u001b[39mwarn(\n\u001b[1;32m   1323\u001b[0m                 \u001b[39m\"\u001b[39m\u001b[39mUpper case characters found in\u001b[39m\u001b[39m\"\u001b[39m\n\u001b[1;32m   1324\u001b[0m                 \u001b[39m\"\u001b[39m\u001b[39m vocabulary while \u001b[39m\u001b[39m'\u001b[39m\u001b[39mlowercase\u001b[39m\u001b[39m'\u001b[39m\u001b[39m\"\u001b[39m\n\u001b[1;32m   1325\u001b[0m                 \u001b[39m\"\u001b[39m\u001b[39m is True. These entries will not\u001b[39m\u001b[39m\"\u001b[39m\n\u001b[1;32m   1326\u001b[0m                 \u001b[39m\"\u001b[39m\u001b[39m be matched with any documents\u001b[39m\u001b[39m\"\u001b[39m\n\u001b[1;32m   1327\u001b[0m             )\n\u001b[1;32m   1328\u001b[0m             \u001b[39mbreak\u001b[39;00m\n\u001b[0;32m-> 1330\u001b[0m vocabulary, X \u001b[39m=\u001b[39m \u001b[39mself\u001b[39;49m\u001b[39m.\u001b[39;49m_count_vocab(raw_documents, \u001b[39mself\u001b[39;49m\u001b[39m.\u001b[39;49mfixed_vocabulary_)\n\u001b[1;32m   1332\u001b[0m \u001b[39mif\u001b[39;00m \u001b[39mself\u001b[39m\u001b[39m.\u001b[39mbinary:\n\u001b[1;32m   1333\u001b[0m     X\u001b[39m.\u001b[39mdata\u001b[39m.\u001b[39mfill(\u001b[39m1\u001b[39m)\n",
      "File \u001b[0;32m/Library/Frameworks/Python.framework/Versions/3.10/lib/python3.10/site-packages/sklearn/feature_extraction/text.py:1201\u001b[0m, in \u001b[0;36mCountVectorizer._count_vocab\u001b[0;34m(self, raw_documents, fixed_vocab)\u001b[0m\n\u001b[1;32m   1199\u001b[0m \u001b[39mfor\u001b[39;00m doc \u001b[39min\u001b[39;00m raw_documents:\n\u001b[1;32m   1200\u001b[0m     feature_counter \u001b[39m=\u001b[39m {}\n\u001b[0;32m-> 1201\u001b[0m     \u001b[39mfor\u001b[39;00m feature \u001b[39min\u001b[39;00m analyze(doc):\n\u001b[1;32m   1202\u001b[0m         \u001b[39mtry\u001b[39;00m:\n\u001b[1;32m   1203\u001b[0m             feature_idx \u001b[39m=\u001b[39m vocabulary[feature]\n",
      "File \u001b[0;32m/Library/Frameworks/Python.framework/Versions/3.10/lib/python3.10/site-packages/sklearn/feature_extraction/text.py:113\u001b[0m, in \u001b[0;36m_analyze\u001b[0;34m(doc, analyzer, tokenizer, ngrams, preprocessor, decoder, stop_words)\u001b[0m\n\u001b[1;32m    111\u001b[0m \u001b[39melse\u001b[39;00m:\n\u001b[1;32m    112\u001b[0m     \u001b[39mif\u001b[39;00m preprocessor \u001b[39mis\u001b[39;00m \u001b[39mnot\u001b[39;00m \u001b[39mNone\u001b[39;00m:\n\u001b[0;32m--> 113\u001b[0m         doc \u001b[39m=\u001b[39m preprocessor(doc)\n\u001b[1;32m    114\u001b[0m     \u001b[39mif\u001b[39;00m tokenizer \u001b[39mis\u001b[39;00m \u001b[39mnot\u001b[39;00m \u001b[39mNone\u001b[39;00m:\n\u001b[1;32m    115\u001b[0m         doc \u001b[39m=\u001b[39m tokenizer(doc)\n",
      "File \u001b[0;32m/Library/Frameworks/Python.framework/Versions/3.10/lib/python3.10/site-packages/sklearn/feature_extraction/text.py:71\u001b[0m, in \u001b[0;36m_preprocess\u001b[0;34m(doc, accent_function, lower)\u001b[0m\n\u001b[1;32m     52\u001b[0m \u001b[39m\u001b[39m\u001b[39m\"\"\"Chain together an optional series of text preprocessing steps to\u001b[39;00m\n\u001b[1;32m     53\u001b[0m \u001b[39mapply to a document.\u001b[39;00m\n\u001b[1;32m     54\u001b[0m \n\u001b[0;32m   (...)\u001b[0m\n\u001b[1;32m     68\u001b[0m \u001b[39m    preprocessed string\u001b[39;00m\n\u001b[1;32m     69\u001b[0m \u001b[39m\"\"\"\u001b[39;00m\n\u001b[1;32m     70\u001b[0m \u001b[39mif\u001b[39;00m lower:\n\u001b[0;32m---> 71\u001b[0m     doc \u001b[39m=\u001b[39m doc\u001b[39m.\u001b[39;49mlower()\n\u001b[1;32m     72\u001b[0m \u001b[39mif\u001b[39;00m accent_function \u001b[39mis\u001b[39;00m \u001b[39mnot\u001b[39;00m \u001b[39mNone\u001b[39;00m:\n\u001b[1;32m     73\u001b[0m     doc \u001b[39m=\u001b[39m accent_function(doc)\n",
      "\u001b[0;31mAttributeError\u001b[0m: 'list' object has no attribute 'lower'"
     ]
    }
   ],
   "source": [
    "from sklearn.feature_extraction.text import CountVectorizer\n",
    "from sklearn.feature_extraction.text import TfidfVectorizer\n",
    "\n",
    "def combine_text(input):\n",
    "    combined = ' '.join(input)\n",
    "    return combined\n",
    "\n",
    "# Bag of Words\n",
    "bow = CountVectorizer(ngram_range=(1, 1))\n",
    "X_bow = bow.fit_transform(prcsd_data['Text'].values.tolist()).toarray()\n",
    "\n",
    "# Bigram BoW\n",
    "bbow = CountVectorizer(ngram_range=(2, 2))\n",
    "X_bbow = bbow.fit_transform(prcsd_data['Text'].values.tolist())\n",
    "\n",
    "# Term-Frequency-Inverse-Document-Frequency\n",
    "tfidf = TfidfVectorizer(use_idf = True, ngram_range=(1, 1))\n",
    "X_tfidf = tfidf.fit_transform(prcsd_data['Text'].values.tolist())"
   ]
  },
  {
   "cell_type": "code",
   "execution_count": null,
   "metadata": {},
   "outputs": [],
   "source": [
    "print(prcsd_data['Text'].values.tolist())\n",
    "print(data['Text'].values.tolist())"
   ]
  },
  {
   "cell_type": "code",
   "execution_count": null,
   "metadata": {},
   "outputs": [],
   "source": [
    "print(len(bow.get_feature_names_out()))\n",
    "\n",
    "print(len(bbow.get_feature_names_out()))\n",
    "\n",
    "print(len(tfidf.get_feature_names_out()))\n"
   ]
  },
  {
   "cell_type": "code",
   "execution_count": null,
   "metadata": {},
   "outputs": [],
   "source": [
    "# Define different data with different preprocessing techniques\n",
    "\n",
    "data2 = data.copy(deep=True)\n",
    "data2['Text'] = data2['Text'].apply(remove_punctuation)\n",
    "data2['Text'] = data2['Text'].apply(remove_stopwords)\n",
    "\n",
    "data3 = data.copy(deep=True)\n",
    "data3['Text'] = data3['Text'].apply(remove_punctuation)\n",
    "data3['Text'] = data3['Text'].apply(word_tokenize)\n",
    "data3['Text'] = data3['Text'].apply(combine_text)\n",
    "\n",
    "data4 = data.copy(deep=True)\n",
    "data4['Text'] = data4['Text'].apply(remove_punctuation)\n",
    "data4['Text'] = data4['Text'].apply(word_tokenize)\n",
    "data4['Text'] = data4['Text'].apply(lemmatizer)\n",
    "data4['Text'] = data4['Text'].apply(combine_text)\n",
    "\n",
    "# Vectorize each dataset\n",
    "# Bag of Words\n",
    "bow0 = CountVectorizer(ngram_range=(1, 1))\n",
    "X_bow0 = bow0.fit_transform(data['Text'].values.tolist())\n",
    "\n",
    "bow2 = CountVectorizer(ngram_range=(1, 1))\n",
    "X_bow2 = bow2.fit_transform(data2['Text'].values.tolist())\n",
    "\n",
    "bow3 = CountVectorizer(ngram_range=(1, 1))\n",
    "X_bow3 = bow3.fit_transform(data3['Text'].values.tolist())\n",
    "\n",
    "bow4 = CountVectorizer(ngram_range=(1, 1))\n",
    "X_bow4 = bow4.fit_transform(data4['Text'].values.tolist())\n",
    "\n",
    "# Bigram BoW\n",
    "bbow0 = CountVectorizer(ngram_range=(2, 2))\n",
    "X_bbo0 = bbow0.fit_transform(data['Text'].values.tolist())\n",
    "\n",
    "bbow2 = CountVectorizer(ngram_range=(2, 2))\n",
    "X_bbo2 = bbow2.fit_transform(data2['Text'].values.tolist())\n",
    "\n",
    "bbow3 = CountVectorizer(ngram_range=(2, 2))\n",
    "X_bbo3 = bbow3.fit_transform(data3['Text'].values.tolist())\n",
    "\n",
    "bbow4 = CountVectorizer(ngram_range=(2, 2))\n",
    "X_bbo4 = bbow4.fit_transform(data4['Text'].values.tolist())\n",
    "\n",
    "# Term-Frequency-Inverse-Document-Frequency\n",
    "tfidf0 = TfidfVectorizer(use_idf = True, ngram_range=(1, 1))\n",
    "X_tfidf0 = tfidf0.fit_transform(data['Text'].values.tolist())\n",
    "\n",
    "tfidf2 = TfidfVectorizer(use_idf = True, ngram_range=(1, 1))\n",
    "X_tfidf2 = tfidf2.fit_transform(data2['Text'].values.tolist())\n",
    "\n",
    "tfidf3 = TfidfVectorizer(use_idf = True, ngram_range=(1, 1))\n",
    "X_tfidf3 = tfidf3.fit_transform(data3['Text'].values.tolist())\n",
    "\n",
    "tfidf4 = TfidfVectorizer(use_idf = True, ngram_range=(1, 1))\n",
    "X_tfidf4 = tfidf4.fit_transform(data4['Text'].values.tolist())\n"
   ]
  },
  {
   "attachments": {},
   "cell_type": "markdown",
   "metadata": {},
   "source": [
    "### Visualization of the features\n",
    "In the first bar, no preprocessing is performed at all. That bar is just an object of comparison.\n",
    "In the other cases, text is always converted to lower case and special characters are also always removed, because that's best practice in almost every NLP task.\n",
    "Let's plot how the other preprocessing tasks influence the number of features."
   ]
  },
  {
   "cell_type": "code",
   "execution_count": null,
   "metadata": {},
   "outputs": [],
   "source": [
    "features_raw = len(bow0.get_feature_names_out())\n",
    "features_tokenize = len(bow3.get_feature_names_out())\n",
    "features_stopwords = len(bow2.get_feature_names_out())\n",
    "features_lemmatize = len(bow4.get_feature_names_out())\n",
    "features_all = len(bow.get_feature_names_out())\n",
    "\n",
    "plt.style.use('seaborn-paper')\n",
    "fig, ax = plt.subplots()\n",
    "\n",
    "ax.bar(x='Raw data', height = features_raw, color='#317773', edgecolor='#201E20')\n",
    "ax.text(x ='Raw data' , y=6000, s=str(features_raw), horizontalalignment='center')\n",
    "\n",
    "ax.bar(x='Tokenize', height = features_tokenize, color='#317773', edgecolor='#201E20')\n",
    "ax.text(x = 'Tokenize', y=6000, s=str(features_tokenize), horizontalalignment='center')\n",
    "\n",
    "ax.bar(x='Remove stopwords', height = features_stopwords, color='#317773', edgecolor='#201E20')\n",
    "ax.text(x = 'Remove stopwords', y=6000, s=str(features_stopwords), horizontalalignment='center')\n",
    "\n",
    "ax.bar(x='Lemmatize', height = features_lemmatize, color='#317773', edgecolor='#201E20')\n",
    "ax.text(x = 'Lemmatize', y=6000, s=str(features_lemmatize), horizontalalignment='center')\n",
    "\n",
    "ax.bar(x='All previous', height = features_all, color='#317773', edgecolor='#201E20')\n",
    "ax.text(x = 'All previous', y=6000, s=str(features_all), horizontalalignment='center')\n",
    "\n",
    "ax.set(xlabel='Preprocessing task', \n",
    "       ylabel='Features Quantity',\n",
    "       title='Distribution of features')\n",
    "\n",
    "plt.show()"
   ]
  },
  {
   "cell_type": "code",
   "execution_count": null,
   "metadata": {},
   "outputs": [],
   "source": [
    "\"\"\"\n",
    "X = X_tfidf.todense() # Just tfidf, because training time is otherweise too long on my local pc.\n",
    "Y = prcsd_data['Polarity'].map({'negative': -1, 'neutral': 0, 'positive': 1})\n",
    "\n",
    "print(type(X))\n",
    "print('X_train shape:', X.shape)\n",
    "print()\n",
    "print(type(Y))\n",
    "print('Y_test shape:', Y.shape)\n",
    "\n",
    "X\n",
    "\"\"\""
   ]
  },
  {
   "attachments": {},
   "cell_type": "markdown",
   "metadata": {},
   "source": [
    "### Deep Learning Model\n",
    "Now let's train a deep learning model, using the different hyperparameters, and let's evaluate the performance."
   ]
  },
  {
   "cell_type": "code",
   "execution_count": 8,
   "metadata": {},
   "outputs": [
    {
     "ename": "NameError",
     "evalue": "name 'X_bow' is not defined",
     "output_type": "error",
     "traceback": [
      "\u001b[0;31m---------------------------------------------------------------------------\u001b[0m",
      "\u001b[0;31mNameError\u001b[0m                                 Traceback (most recent call last)",
      "Cell \u001b[0;32mIn[8], line 21\u001b[0m\n\u001b[1;32m      8\u001b[0m \u001b[39m# not used atm\u001b[39;00m\n\u001b[1;32m      9\u001b[0m text_vectorizer \u001b[39m=\u001b[39m TextVectorization(max_tokens\u001b[39m=\u001b[39m\u001b[39mNone\u001b[39;00m, \n\u001b[1;32m     10\u001b[0m                                     \u001b[39m#already done\u001b[39;00m\n\u001b[1;32m     11\u001b[0m                                     standardize\u001b[39m=\u001b[39m\u001b[39mNone\u001b[39;00m,\n\u001b[0;32m   (...)\u001b[0m\n\u001b[1;32m     18\u001b[0m                                     output_sequence_length\u001b[39m=\u001b[39m\u001b[39mNone\u001b[39;00m\n\u001b[1;32m     19\u001b[0m                                     )\n\u001b[0;32m---> 21\u001b[0m X \u001b[39m=\u001b[39m X_bow \u001b[39m# Just tfidf, because training time is otherweise too long on my local pc.\u001b[39;00m\n\u001b[1;32m     22\u001b[0m Y \u001b[39m=\u001b[39m prcsd_data[\u001b[39m'\u001b[39m\u001b[39mPolarity\u001b[39m\u001b[39m'\u001b[39m]\u001b[39m.\u001b[39mmap({\u001b[39m'\u001b[39m\u001b[39mnegative\u001b[39m\u001b[39m'\u001b[39m: \u001b[39m-\u001b[39m\u001b[39m1\u001b[39m, \u001b[39m'\u001b[39m\u001b[39mneutral\u001b[39m\u001b[39m'\u001b[39m: \u001b[39m0\u001b[39m, \u001b[39m'\u001b[39m\u001b[39mpositive\u001b[39m\u001b[39m'\u001b[39m: \u001b[39m1\u001b[39m})\n\u001b[1;32m     24\u001b[0m prcsd_data[\u001b[39m'\u001b[39m\u001b[39mPolarity\u001b[39m\u001b[39m'\u001b[39m] \u001b[39m=\u001b[39m prcsd_data[\u001b[39m'\u001b[39m\u001b[39mPolarity\u001b[39m\u001b[39m'\u001b[39m]\u001b[39m.\u001b[39mmap({\u001b[39m'\u001b[39m\u001b[39mnegative\u001b[39m\u001b[39m'\u001b[39m: \u001b[39m-\u001b[39m\u001b[39m1\u001b[39m, \u001b[39m'\u001b[39m\u001b[39mneutral\u001b[39m\u001b[39m'\u001b[39m: \u001b[39m0\u001b[39m, \u001b[39m'\u001b[39m\u001b[39mpositive\u001b[39m\u001b[39m'\u001b[39m: \u001b[39m1\u001b[39m})\n",
      "\u001b[0;31mNameError\u001b[0m: name 'X_bow' is not defined"
     ]
    }
   ],
   "source": [
    "# Other hyperparameters\n",
    "from tensorflow.keras.models import Sequential\n",
    "from tensorflow.keras.layers import Dense, Dropout, Embedding, GRU\n",
    "from tensorflow.keras.layers.experimental.preprocessing import TextVectorization\n",
    "from tensorflow.keras.utils import to_categorical\n",
    "from sklearn.model_selection import train_test_split, GridSearchCV\n",
    "\n",
    "# not used atm\n",
    "text_vectorizer = TextVectorization(max_tokens=None, \n",
    "                                    #already done\n",
    "                                    standardize=None,\n",
    "                                    #whitespace delimiter\n",
    "                                    split=\"whitespace\", \n",
    "                                    #dont group anything, every token alone\n",
    "                                    ngrams = None, \n",
    "                                    output_mode =\"int\",\n",
    "                                    #length of each sentence == length of largest sentence\n",
    "                                    output_sequence_length=None\n",
    "                                    )\n",
    "\n",
    "X = X_bow # Just tfidf, because training time is otherweise too long on my local pc.\n",
    "Y = prcsd_data['Polarity'].map({'negative': -1, 'neutral': 0, 'positive': 1})\n",
    "\n",
    "prcsd_data['Polarity'] = prcsd_data['Polarity'].map({'negative': -1, 'neutral': 0, 'positive': 1})\n",
    "X_train, X_test, Y_train, Y_test = train_test_split(X, Y, test_size=0.1, random_state=1)\n",
    "\n",
    "Y_train = to_categorical(Y_train, 3)\n",
    "Y_test = to_categorical(Y_test, 3)\n",
    "\n",
    "model = Sequential()\n",
    "#model.add(text_vectorizer)\n",
    "model.add(Embedding(input_dim=100, output_dim=300, input_length=11320))\n",
    "model.add(GRU(128, dropout=0.2))\n",
    "model.add(Dense(3, activation='softmax'))"
   ]
  },
  {
   "cell_type": "code",
   "execution_count": null,
   "metadata": {},
   "outputs": [],
   "source": [
    "print(type(X_train))\n",
    "print(X_train[:10])\n",
    "print()\n",
    "print(type(X_test))\n",
    "print(X_test[:10])\n",
    "print()\n",
    "print(type(Y_train))\n",
    "print(Y_train[:10])\n",
    "print()\n",
    "print(type(Y_test))\n",
    "print(Y_test[:10])"
   ]
  },
  {
   "cell_type": "code",
   "execution_count": null,
   "metadata": {},
   "outputs": [],
   "source": [
    "X_train.shape"
   ]
  },
  {
   "cell_type": "code",
   "execution_count": null,
   "metadata": {},
   "outputs": [],
   "source": [
    "# Compiling the model and predicting the sentiment\n",
    "model.compile(loss='categorical_crossentropy', optimizer='adam',metrics=['accuracy'])\n",
    "model.fit(X_train, Y_train, batch_size=256, epochs=5)\n",
    "score = model.evaluate(X_test, Y_test)\n",
    "\n",
    "print(score)"
   ]
  },
  {
   "cell_type": "code",
   "execution_count": null,
   "metadata": {},
   "outputs": [],
   "source": [
    "from matplotlib.ticker import MaxNLocator\n",
    "accuracies = [0.7222, 0.8763, 0.9275, 0.9276, 0.9279]\n",
    "\n",
    "fig, ax = plt.subplots()\n",
    "\n",
    "ax.plot([1, 2, 3, 4, 5], accuracies)\n",
    "\n",
    "ax.set(xlabel='Epoch', \n",
    "       ylabel='Accuracy',\n",
    "       title='Accuracy per Epoch')\n",
    "ax.xaxis.set_major_locator(MaxNLocator(integer=True))\n",
    "plt.show()\n"
   ]
  }
 ],
 "metadata": {
  "kernelspec": {
   "display_name": "Python 3",
   "language": "python",
   "name": "python3"
  },
  "language_info": {
   "codemirror_mode": {
    "name": "ipython",
    "version": 3
   },
   "file_extension": ".py",
   "mimetype": "text/x-python",
   "name": "python",
   "nbconvert_exporter": "python",
   "pygments_lexer": "ipython3",
   "version": "3.10.11"
  },
  "orig_nbformat": 4
 },
 "nbformat": 4,
 "nbformat_minor": 2
}
